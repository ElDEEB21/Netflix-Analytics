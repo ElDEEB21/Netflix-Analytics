{
 "cells": [
  {
   "cell_type": "markdown",
   "metadata": {},
   "source": [
    "## Explore the Project on GitHub\n",
    "\n",
    "For more details, source code, and updates, please visit the project's GitHub repository. Click on the image below to be redirected.\n"
   ]
  },
  {
   "cell_type": "markdown",
   "metadata": {},
   "source": [
    "[![GitHub](data:image/png;base64,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)](https://github.com/ElDEEB21/Netflix-Analytics)\n"
   ]
  },
  {
   "cell_type": "markdown",
   "metadata": {
    "vscode": {
     "languageId": "bat"
    }
   },
   "source": [
    "## Required Libraries\n",
    "Importing libraries for data analysis and visualization: NumPy, Pandas, Matplotlib, Seaborn.\n"
   ]
  },
  {
   "cell_type": "code",
   "execution_count": 172,
   "metadata": {},
   "outputs": [],
   "source": [
    "import numpy as np\n",
    "import pandas as pd \n",
    "import matplotlib.pyplot as plt \n",
    "import seaborn as sns \n",
    "import warnings\n",
    "warnings.simplefilter(action='ignore', category=FutureWarning)"
   ]
  },
  {
   "cell_type": "markdown",
   "metadata": {},
   "source": [
    "## Data Loading and Exploration\n",
    "Load Netflix dataset, view structure, summarize, check nulls, duplicates, and data types.\n"
   ]
  },
  {
   "cell_type": "code",
   "execution_count": 173,
   "metadata": {},
   "outputs": [
    {
     "data": {
      "text/plain": [
       "(8790, 10)"
      ]
     },
     "execution_count": 173,
     "metadata": {},
     "output_type": "execute_result"
    }
   ],
   "source": [
    "df = pd.read_csv(\"netflix1.csv\")\n",
    "df.shape"
   ]
  },
  {
   "cell_type": "code",
   "execution_count": 174,
   "metadata": {},
   "outputs": [
    {
     "data": {
      "text/html": [
       "<div>\n",
       "<style scoped>\n",
       "    .dataframe tbody tr th:only-of-type {\n",
       "        vertical-align: middle;\n",
       "    }\n",
       "\n",
       "    .dataframe tbody tr th {\n",
       "        vertical-align: top;\n",
       "    }\n",
       "\n",
       "    .dataframe thead th {\n",
       "        text-align: right;\n",
       "    }\n",
       "</style>\n",
       "<table border=\"1\" class=\"dataframe\">\n",
       "  <thead>\n",
       "    <tr style=\"text-align: right;\">\n",
       "      <th></th>\n",
       "      <th>show_id</th>\n",
       "      <th>type</th>\n",
       "      <th>title</th>\n",
       "      <th>director</th>\n",
       "      <th>country</th>\n",
       "      <th>date_added</th>\n",
       "      <th>release_year</th>\n",
       "      <th>rating</th>\n",
       "      <th>duration</th>\n",
       "      <th>listed_in</th>\n",
       "    </tr>\n",
       "  </thead>\n",
       "  <tbody>\n",
       "    <tr>\n",
       "      <th>0</th>\n",
       "      <td>s1</td>\n",
       "      <td>Movie</td>\n",
       "      <td>Dick Johnson Is Dead</td>\n",
       "      <td>Kirsten Johnson</td>\n",
       "      <td>United States</td>\n",
       "      <td>9/25/2021</td>\n",
       "      <td>2020</td>\n",
       "      <td>PG-13</td>\n",
       "      <td>90 min</td>\n",
       "      <td>Documentaries</td>\n",
       "    </tr>\n",
       "    <tr>\n",
       "      <th>1</th>\n",
       "      <td>s3</td>\n",
       "      <td>TV Show</td>\n",
       "      <td>Ganglands</td>\n",
       "      <td>Julien Leclercq</td>\n",
       "      <td>France</td>\n",
       "      <td>9/24/2021</td>\n",
       "      <td>2021</td>\n",
       "      <td>TV-MA</td>\n",
       "      <td>1 Season</td>\n",
       "      <td>Crime TV Shows, International TV Shows, TV Act...</td>\n",
       "    </tr>\n",
       "    <tr>\n",
       "      <th>2</th>\n",
       "      <td>s6</td>\n",
       "      <td>TV Show</td>\n",
       "      <td>Midnight Mass</td>\n",
       "      <td>Mike Flanagan</td>\n",
       "      <td>United States</td>\n",
       "      <td>9/24/2021</td>\n",
       "      <td>2021</td>\n",
       "      <td>TV-MA</td>\n",
       "      <td>1 Season</td>\n",
       "      <td>TV Dramas, TV Horror, TV Mysteries</td>\n",
       "    </tr>\n",
       "    <tr>\n",
       "      <th>3</th>\n",
       "      <td>s14</td>\n",
       "      <td>Movie</td>\n",
       "      <td>Confessions of an Invisible Girl</td>\n",
       "      <td>Bruno Garotti</td>\n",
       "      <td>Brazil</td>\n",
       "      <td>9/22/2021</td>\n",
       "      <td>2021</td>\n",
       "      <td>TV-PG</td>\n",
       "      <td>91 min</td>\n",
       "      <td>Children &amp; Family Movies, Comedies</td>\n",
       "    </tr>\n",
       "    <tr>\n",
       "      <th>4</th>\n",
       "      <td>s8</td>\n",
       "      <td>Movie</td>\n",
       "      <td>Sankofa</td>\n",
       "      <td>Haile Gerima</td>\n",
       "      <td>United States</td>\n",
       "      <td>9/24/2021</td>\n",
       "      <td>1993</td>\n",
       "      <td>TV-MA</td>\n",
       "      <td>125 min</td>\n",
       "      <td>Dramas, Independent Movies, International Movies</td>\n",
       "    </tr>\n",
       "  </tbody>\n",
       "</table>\n",
       "</div>"
      ],
      "text/plain": [
       "  show_id     type                             title         director  \\\n",
       "0      s1    Movie              Dick Johnson Is Dead  Kirsten Johnson   \n",
       "1      s3  TV Show                         Ganglands  Julien Leclercq   \n",
       "2      s6  TV Show                     Midnight Mass    Mike Flanagan   \n",
       "3     s14    Movie  Confessions of an Invisible Girl    Bruno Garotti   \n",
       "4      s8    Movie                           Sankofa     Haile Gerima   \n",
       "\n",
       "         country date_added  release_year rating  duration  \\\n",
       "0  United States  9/25/2021          2020  PG-13    90 min   \n",
       "1         France  9/24/2021          2021  TV-MA  1 Season   \n",
       "2  United States  9/24/2021          2021  TV-MA  1 Season   \n",
       "3         Brazil  9/22/2021          2021  TV-PG    91 min   \n",
       "4  United States  9/24/2021          1993  TV-MA   125 min   \n",
       "\n",
       "                                           listed_in  \n",
       "0                                      Documentaries  \n",
       "1  Crime TV Shows, International TV Shows, TV Act...  \n",
       "2                 TV Dramas, TV Horror, TV Mysteries  \n",
       "3                 Children & Family Movies, Comedies  \n",
       "4   Dramas, Independent Movies, International Movies  "
      ]
     },
     "execution_count": 174,
     "metadata": {},
     "output_type": "execute_result"
    }
   ],
   "source": [
    "df.head()"
   ]
  },
  {
   "cell_type": "code",
   "execution_count": 175,
   "metadata": {},
   "outputs": [
    {
     "data": {
      "text/plain": [
       "show_id         0\n",
       "type            0\n",
       "title           0\n",
       "director        0\n",
       "country         0\n",
       "date_added      0\n",
       "release_year    0\n",
       "rating          0\n",
       "duration        0\n",
       "listed_in       0\n",
       "dtype: int64"
      ]
     },
     "execution_count": 175,
     "metadata": {},
     "output_type": "execute_result"
    }
   ],
   "source": [
    "df.isnull().sum()"
   ]
  },
  {
   "cell_type": "code",
   "execution_count": 176,
   "metadata": {},
   "outputs": [
    {
     "data": {
      "text/html": [
       "<div>\n",
       "<style scoped>\n",
       "    .dataframe tbody tr th:only-of-type {\n",
       "        vertical-align: middle;\n",
       "    }\n",
       "\n",
       "    .dataframe tbody tr th {\n",
       "        vertical-align: top;\n",
       "    }\n",
       "\n",
       "    .dataframe thead th {\n",
       "        text-align: right;\n",
       "    }\n",
       "</style>\n",
       "<table border=\"1\" class=\"dataframe\">\n",
       "  <thead>\n",
       "    <tr style=\"text-align: right;\">\n",
       "      <th></th>\n",
       "      <th>release_year</th>\n",
       "    </tr>\n",
       "  </thead>\n",
       "  <tbody>\n",
       "    <tr>\n",
       "      <th>count</th>\n",
       "      <td>8790.000000</td>\n",
       "    </tr>\n",
       "    <tr>\n",
       "      <th>mean</th>\n",
       "      <td>2014.183163</td>\n",
       "    </tr>\n",
       "    <tr>\n",
       "      <th>std</th>\n",
       "      <td>8.825466</td>\n",
       "    </tr>\n",
       "    <tr>\n",
       "      <th>min</th>\n",
       "      <td>1925.000000</td>\n",
       "    </tr>\n",
       "    <tr>\n",
       "      <th>25%</th>\n",
       "      <td>2013.000000</td>\n",
       "    </tr>\n",
       "    <tr>\n",
       "      <th>50%</th>\n",
       "      <td>2017.000000</td>\n",
       "    </tr>\n",
       "    <tr>\n",
       "      <th>75%</th>\n",
       "      <td>2019.000000</td>\n",
       "    </tr>\n",
       "    <tr>\n",
       "      <th>max</th>\n",
       "      <td>2021.000000</td>\n",
       "    </tr>\n",
       "  </tbody>\n",
       "</table>\n",
       "</div>"
      ],
      "text/plain": [
       "       release_year\n",
       "count   8790.000000\n",
       "mean    2014.183163\n",
       "std        8.825466\n",
       "min     1925.000000\n",
       "25%     2013.000000\n",
       "50%     2017.000000\n",
       "75%     2019.000000\n",
       "max     2021.000000"
      ]
     },
     "execution_count": 176,
     "metadata": {},
     "output_type": "execute_result"
    }
   ],
   "source": [
    "df.describe()"
   ]
  },
  {
   "cell_type": "code",
   "execution_count": 177,
   "metadata": {},
   "outputs": [
    {
     "data": {
      "text/plain": [
       "show_id         object\n",
       "type            object\n",
       "title           object\n",
       "director        object\n",
       "country         object\n",
       "date_added      object\n",
       "release_year     int64\n",
       "rating          object\n",
       "duration        object\n",
       "listed_in       object\n",
       "dtype: object"
      ]
     },
     "execution_count": 177,
     "metadata": {},
     "output_type": "execute_result"
    }
   ],
   "source": [
    "df.dtypes"
   ]
  },
  {
   "cell_type": "code",
   "execution_count": 178,
   "metadata": {},
   "outputs": [
    {
     "name": "stdout",
     "output_type": "stream",
     "text": [
      "<class 'pandas.core.frame.DataFrame'>\n",
      "RangeIndex: 8790 entries, 0 to 8789\n",
      "Data columns (total 10 columns):\n",
      " #   Column        Non-Null Count  Dtype \n",
      "---  ------        --------------  ----- \n",
      " 0   show_id       8790 non-null   object\n",
      " 1   type          8790 non-null   object\n",
      " 2   title         8790 non-null   object\n",
      " 3   director      8790 non-null   object\n",
      " 4   country       8790 non-null   object\n",
      " 5   date_added    8790 non-null   object\n",
      " 6   release_year  8790 non-null   int64 \n",
      " 7   rating        8790 non-null   object\n",
      " 8   duration      8790 non-null   object\n",
      " 9   listed_in     8790 non-null   object\n",
      "dtypes: int64(1), object(9)\n",
      "memory usage: 686.8+ KB\n"
     ]
    }
   ],
   "source": [
    "df.info()"
   ]
  },
  {
   "cell_type": "code",
   "execution_count": 179,
   "metadata": {},
   "outputs": [
    {
     "data": {
      "text/plain": [
       "0"
      ]
     },
     "execution_count": 179,
     "metadata": {},
     "output_type": "execute_result"
    }
   ],
   "source": [
    "df.duplicated().sum()"
   ]
  },
  {
   "cell_type": "code",
   "execution_count": 180,
   "metadata": {},
   "outputs": [
    {
     "data": {
      "text/plain": [
       "Index(['show_id', 'type', 'title', 'director', 'country', 'date_added',\n",
       "       'release_year', 'rating', 'duration', 'listed_in'],\n",
       "      dtype='object')"
      ]
     },
     "execution_count": 180,
     "metadata": {},
     "output_type": "execute_result"
    }
   ],
   "source": [
    "df.columns"
   ]
  },
  {
   "cell_type": "markdown",
   "metadata": {},
   "source": [
    "## Data Cleaning\n",
    "Rename columns, and summarize the data.\n"
   ]
  },
  {
   "cell_type": "code",
   "execution_count": 181,
   "metadata": {},
   "outputs": [],
   "source": [
    "df.rename(columns={'date_added': 'Date',\"listed_in\":\"category\"},inplace=True)"
   ]
  },
  {
   "cell_type": "code",
   "execution_count": 182,
   "metadata": {},
   "outputs": [
    {
     "data": {
      "text/html": [
       "<div>\n",
       "<style scoped>\n",
       "    .dataframe tbody tr th:only-of-type {\n",
       "        vertical-align: middle;\n",
       "    }\n",
       "\n",
       "    .dataframe tbody tr th {\n",
       "        vertical-align: top;\n",
       "    }\n",
       "\n",
       "    .dataframe thead th {\n",
       "        text-align: right;\n",
       "    }\n",
       "</style>\n",
       "<table border=\"1\" class=\"dataframe\">\n",
       "  <thead>\n",
       "    <tr style=\"text-align: right;\">\n",
       "      <th></th>\n",
       "      <th>show_id</th>\n",
       "      <th>type</th>\n",
       "      <th>title</th>\n",
       "      <th>director</th>\n",
       "      <th>country</th>\n",
       "      <th>Date</th>\n",
       "      <th>release_year</th>\n",
       "      <th>rating</th>\n",
       "      <th>duration</th>\n",
       "      <th>category</th>\n",
       "    </tr>\n",
       "  </thead>\n",
       "  <tbody>\n",
       "    <tr>\n",
       "      <th>0</th>\n",
       "      <td>s1</td>\n",
       "      <td>Movie</td>\n",
       "      <td>Dick Johnson Is Dead</td>\n",
       "      <td>Kirsten Johnson</td>\n",
       "      <td>United States</td>\n",
       "      <td>9/25/2021</td>\n",
       "      <td>2020</td>\n",
       "      <td>PG-13</td>\n",
       "      <td>90 min</td>\n",
       "      <td>Documentaries</td>\n",
       "    </tr>\n",
       "    <tr>\n",
       "      <th>1</th>\n",
       "      <td>s3</td>\n",
       "      <td>TV Show</td>\n",
       "      <td>Ganglands</td>\n",
       "      <td>Julien Leclercq</td>\n",
       "      <td>France</td>\n",
       "      <td>9/24/2021</td>\n",
       "      <td>2021</td>\n",
       "      <td>TV-MA</td>\n",
       "      <td>1 Season</td>\n",
       "      <td>Crime TV Shows, International TV Shows, TV Act...</td>\n",
       "    </tr>\n",
       "    <tr>\n",
       "      <th>2</th>\n",
       "      <td>s6</td>\n",
       "      <td>TV Show</td>\n",
       "      <td>Midnight Mass</td>\n",
       "      <td>Mike Flanagan</td>\n",
       "      <td>United States</td>\n",
       "      <td>9/24/2021</td>\n",
       "      <td>2021</td>\n",
       "      <td>TV-MA</td>\n",
       "      <td>1 Season</td>\n",
       "      <td>TV Dramas, TV Horror, TV Mysteries</td>\n",
       "    </tr>\n",
       "    <tr>\n",
       "      <th>3</th>\n",
       "      <td>s14</td>\n",
       "      <td>Movie</td>\n",
       "      <td>Confessions of an Invisible Girl</td>\n",
       "      <td>Bruno Garotti</td>\n",
       "      <td>Brazil</td>\n",
       "      <td>9/22/2021</td>\n",
       "      <td>2021</td>\n",
       "      <td>TV-PG</td>\n",
       "      <td>91 min</td>\n",
       "      <td>Children &amp; Family Movies, Comedies</td>\n",
       "    </tr>\n",
       "    <tr>\n",
       "      <th>4</th>\n",
       "      <td>s8</td>\n",
       "      <td>Movie</td>\n",
       "      <td>Sankofa</td>\n",
       "      <td>Haile Gerima</td>\n",
       "      <td>United States</td>\n",
       "      <td>9/24/2021</td>\n",
       "      <td>1993</td>\n",
       "      <td>TV-MA</td>\n",
       "      <td>125 min</td>\n",
       "      <td>Dramas, Independent Movies, International Movies</td>\n",
       "    </tr>\n",
       "  </tbody>\n",
       "</table>\n",
       "</div>"
      ],
      "text/plain": [
       "  show_id     type                             title         director  \\\n",
       "0      s1    Movie              Dick Johnson Is Dead  Kirsten Johnson   \n",
       "1      s3  TV Show                         Ganglands  Julien Leclercq   \n",
       "2      s6  TV Show                     Midnight Mass    Mike Flanagan   \n",
       "3     s14    Movie  Confessions of an Invisible Girl    Bruno Garotti   \n",
       "4      s8    Movie                           Sankofa     Haile Gerima   \n",
       "\n",
       "         country       Date  release_year rating  duration  \\\n",
       "0  United States  9/25/2021          2020  PG-13    90 min   \n",
       "1         France  9/24/2021          2021  TV-MA  1 Season   \n",
       "2  United States  9/24/2021          2021  TV-MA  1 Season   \n",
       "3         Brazil  9/22/2021          2021  TV-PG    91 min   \n",
       "4  United States  9/24/2021          1993  TV-MA   125 min   \n",
       "\n",
       "                                            category  \n",
       "0                                      Documentaries  \n",
       "1  Crime TV Shows, International TV Shows, TV Act...  \n",
       "2                 TV Dramas, TV Horror, TV Mysteries  \n",
       "3                 Children & Family Movies, Comedies  \n",
       "4   Dramas, Independent Movies, International Movies  "
      ]
     },
     "execution_count": 182,
     "metadata": {},
     "output_type": "execute_result"
    }
   ],
   "source": [
    "df.head()"
   ]
  },
  {
   "cell_type": "code",
   "execution_count": 183,
   "metadata": {},
   "outputs": [],
   "source": [
    "df['Date'] = pd.to_datetime(df['Date'])"
   ]
  },
  {
   "cell_type": "code",
   "execution_count": 184,
   "metadata": {},
   "outputs": [
    {
     "data": {
      "text/html": [
       "<div>\n",
       "<style scoped>\n",
       "    .dataframe tbody tr th:only-of-type {\n",
       "        vertical-align: middle;\n",
       "    }\n",
       "\n",
       "    .dataframe tbody tr th {\n",
       "        vertical-align: top;\n",
       "    }\n",
       "\n",
       "    .dataframe thead th {\n",
       "        text-align: right;\n",
       "    }\n",
       "</style>\n",
       "<table border=\"1\" class=\"dataframe\">\n",
       "  <thead>\n",
       "    <tr style=\"text-align: right;\">\n",
       "      <th></th>\n",
       "      <th>Date</th>\n",
       "      <th>release_year</th>\n",
       "    </tr>\n",
       "  </thead>\n",
       "  <tbody>\n",
       "    <tr>\n",
       "      <th>count</th>\n",
       "      <td>8790</td>\n",
       "      <td>8790.000000</td>\n",
       "    </tr>\n",
       "    <tr>\n",
       "      <th>mean</th>\n",
       "      <td>2019-05-17 21:44:01.638225408</td>\n",
       "      <td>2014.183163</td>\n",
       "    </tr>\n",
       "    <tr>\n",
       "      <th>min</th>\n",
       "      <td>2008-01-01 00:00:00</td>\n",
       "      <td>1925.000000</td>\n",
       "    </tr>\n",
       "    <tr>\n",
       "      <th>25%</th>\n",
       "      <td>2018-04-06 00:00:00</td>\n",
       "      <td>2013.000000</td>\n",
       "    </tr>\n",
       "    <tr>\n",
       "      <th>50%</th>\n",
       "      <td>2019-07-03 00:00:00</td>\n",
       "      <td>2017.000000</td>\n",
       "    </tr>\n",
       "    <tr>\n",
       "      <th>75%</th>\n",
       "      <td>2020-08-19 18:00:00</td>\n",
       "      <td>2019.000000</td>\n",
       "    </tr>\n",
       "    <tr>\n",
       "      <th>max</th>\n",
       "      <td>2021-09-25 00:00:00</td>\n",
       "      <td>2021.000000</td>\n",
       "    </tr>\n",
       "    <tr>\n",
       "      <th>std</th>\n",
       "      <td>NaN</td>\n",
       "      <td>8.825466</td>\n",
       "    </tr>\n",
       "  </tbody>\n",
       "</table>\n",
       "</div>"
      ],
      "text/plain": [
       "                                Date  release_year\n",
       "count                           8790   8790.000000\n",
       "mean   2019-05-17 21:44:01.638225408   2014.183163\n",
       "min              2008-01-01 00:00:00   1925.000000\n",
       "25%              2018-04-06 00:00:00   2013.000000\n",
       "50%              2019-07-03 00:00:00   2017.000000\n",
       "75%              2020-08-19 18:00:00   2019.000000\n",
       "max              2021-09-25 00:00:00   2021.000000\n",
       "std                              NaN      8.825466"
      ]
     },
     "execution_count": 184,
     "metadata": {},
     "output_type": "execute_result"
    }
   ],
   "source": [
    "df.describe()"
   ]
  },
  {
   "cell_type": "markdown",
   "metadata": {},
   "source": [
    "## Visualization of Show Types\n",
    "Plotting a pie chart to illustrate the proportion of Movies vs. TV Shows in the dataset.\n"
   ]
  },
  {
   "cell_type": "code",
   "execution_count": 185,
   "metadata": {},
   "outputs": [
    {
     "data": {
      "text/html": [
       "<div>\n",
       "<style scoped>\n",
       "    .dataframe tbody tr th:only-of-type {\n",
       "        vertical-align: middle;\n",
       "    }\n",
       "\n",
       "    .dataframe tbody tr th {\n",
       "        vertical-align: top;\n",
       "    }\n",
       "\n",
       "    .dataframe thead th {\n",
       "        text-align: right;\n",
       "    }\n",
       "</style>\n",
       "<table border=\"1\" class=\"dataframe\">\n",
       "  <thead>\n",
       "    <tr style=\"text-align: right;\">\n",
       "      <th></th>\n",
       "      <th>type</th>\n",
       "      <th>count</th>\n",
       "    </tr>\n",
       "  </thead>\n",
       "  <tbody>\n",
       "    <tr>\n",
       "      <th>0</th>\n",
       "      <td>Movie</td>\n",
       "      <td>6126</td>\n",
       "    </tr>\n",
       "    <tr>\n",
       "      <th>1</th>\n",
       "      <td>TV Show</td>\n",
       "      <td>2664</td>\n",
       "    </tr>\n",
       "  </tbody>\n",
       "</table>\n",
       "</div>"
      ],
      "text/plain": [
       "      type  count\n",
       "0    Movie   6126\n",
       "1  TV Show   2664"
      ]
     },
     "execution_count": 185,
     "metadata": {},
     "output_type": "execute_result"
    }
   ],
   "source": [
    "typeOfShow = df['type'].value_counts().reset_index()\n",
    "typeOfShow"
   ]
  },
  {
   "cell_type": "code",
   "execution_count": 186,
   "metadata": {},
   "outputs": [
    {
     "data": {
      "image/png": "[encoded data removed]",
      "text/plain": [
       "<Figure size 2000x600 with 1 Axes>"
      ]
     },
     "metadata": {},
     "output_type": "display_data"
    }
   ],
   "source": [
    "plt.figure(figsize=(20, 6))  \n",
    "plt.pie(typeOfShow['count'], labels=['Movie', 'TVshow'],\n",
    "        autopct='%1.3f%%', explode=[0, 0.1], startangle=90)\n",
    "plt.title('Distribution of Show Types')\n",
    "plt.show()"
   ]
  },
  {
   "cell_type": "markdown",
   "metadata": {},
   "source": [
    "## Analysis of Director Contributions\n",
    "Calculate the number of unique directors, and visualize their distribution along with a bar chart showcasing the top 10 directors by number of titles directed.\n"
   ]
  },
  {
   "cell_type": "code",
   "execution_count": 187,
   "metadata": {},
   "outputs": [
    {
     "data": {
      "text/plain": [
       "director\n",
       "Not Given                 2588\n",
       "Rajiv Chilaka               20\n",
       "Alastair Fothergill         18\n",
       "Raúl Campos, Jan Suter      18\n",
       "Suhas Kadav                 16\n",
       "Marcus Raboy                16\n",
       "Jay Karas                   14\n",
       "Cathy Garcia-Molina         13\n",
       "Martin Scorsese             12\n",
       "Youssef Chahine             12\n",
       "Name: count, dtype: int64"
      ]
     },
     "execution_count": 187,
     "metadata": {},
     "output_type": "execute_result"
    }
   ],
   "source": [
    "numOfDirectors = df['director'].value_counts()\n",
    "numOfDirectors.head(10)"
   ]
  },
  {
   "cell_type": "code",
   "execution_count": 188,
   "metadata": {},
   "outputs": [
    {
     "name": "stdout",
     "output_type": "stream",
     "text": [
      "Num of given directors is 6202\n"
     ]
    }
   ],
   "source": [
    "given_directors = numOfDirectors.sum() - numOfDirectors[0]\n",
    "print(f'Num of given directors is {given_directors}')"
   ]
  },
  {
   "cell_type": "code",
   "execution_count": 189,
   "metadata": {},
   "outputs": [
    {
     "data": {
      "application/vnd.plotly.v1+json": {
       "config": {
        "plotlyServerURL": "https://plot.ly"
       },
       "data": [
        {
         "labels": [
          "Given directors",
          "Not given directors"
         ],
         "marker": {
          "colors": [
           "darkblue",
           "darkred"
          ]
         },
         "title": {
          "text": "Distribution of directors"
         },
         "type": "pie",
         "values": [
          2588,
          6202
         ]
        }
       ],
       "layout": {
        "template": {
         "data": {
          "bar": [
           {
            "error_x": {
             "color": "#2a3f5f"
            },
            "error_y": {
             "color": "#2a3f5f"
            },
            "marker": {
             "line": {
              "color": "#E5ECF6",
              "width": 0.5
             },
             "pattern": {
              "fillmode": "overlay",
              "size": 10,
              "solidity": 0.2
             }
            },
            "type": "bar"
           }
          ],
          "barpolar": [
           {
            "marker": {
             "line": {
              "color": "#E5ECF6",
              "width": 0.5
             },
             "pattern": {
              "fillmode": "overlay",
              "size": 10,
              "solidity": 0.2
             }
            },
            "type": "barpolar"
           }
          ],
          "carpet": [
           {
            "aaxis": {
             "endlinecolor": "#2a3f5f",
             "gridcolor": "white",
             "linecolor": "white",
             "minorgridcolor": "white",
             "startlinecolor": "#2a3f5f"
            },
            "baxis": {
             "endlinecolor": "#2a3f5f",
             "gridcolor": "white",
             "linecolor": "white",
             "minorgridcolor": "white",
             "startlinecolor": "#2a3f5f"
            },
            "type": "carpet"
           }
          ],
          "choropleth": [
           {
            "colorbar": {
             "outlinewidth": 0,
             "ticks": ""
            },
            "type": "choropleth"
           }
          ],
          "contour": [
           {
            "colorbar": {
             "outlinewidth": 0,
             "ticks": ""
            },
            "colorscale": [
             [
              0,
              "#0d0887"
             ],
             [
              0.1111111111111111,
              "#46039f"
             ],
             [
              0.2222222222222222,
              "#7201a8"
             ],
             [
              0.3333333333333333,
              "#9c179e"
             ],
             [
              0.4444444444444444,
              "#bd3786"
             ],
             [
              0.5555555555555556,
              "#d8576b"
             ],
             [
              0.6666666666666666,
              "#ed7953"
             ],
             [
              0.7777777777777778,
              "#fb9f3a"
             ],
             [
              0.8888888888888888,
              "#fdca26"
             ],
             [
              1,
              "#f0f921"
             ]
            ],
            "type": "contour"
           }
          ],
          "contourcarpet": [
           {
            "colorbar": {
             "outlinewidth": 0,
             "ticks": ""
            },
            "type": "contourcarpet"
           }
          ],
          "heatmap": [
           {
            "colorbar": {
             "outlinewidth": 0,
             "ticks": ""
            },
            "colorscale": [
             [
              0,
              "#0d0887"
             ],
             [
              0.1111111111111111,
              "#46039f"
             ],
             [
              0.2222222222222222,
              "#7201a8"
             ],
             [
              0.3333333333333333,
              "#9c179e"
             ],
             [
              0.4444444444444444,
              "#bd3786"
             ],
             [
              0.5555555555555556,
              "#d8576b"
             ],
             [
              0.6666666666666666,
              "#ed7953"
             ],
             [
              0.7777777777777778,
              "#fb9f3a"
             ],
             [
              0.8888888888888888,
              "#fdca26"
             ],
             [
              1,
              "#f0f921"
             ]
            ],
            "type": "heatmap"
           }
          ],
          "heatmapgl": [
           {
            "colorbar": {
             "outlinewidth": 0,
             "ticks": ""
            },
            "colorscale": [
             [
              0,
              "#0d0887"
             ],
             [
              0.1111111111111111,
              "#46039f"
             ],
             [
              0.2222222222222222,
              "#7201a8"
             ],
             [
              0.3333333333333333,
              "#9c179e"
             ],
             [
              0.4444444444444444,
              "#bd3786"
             ],
             [
              0.5555555555555556,
              "#d8576b"
             ],
             [
              0.6666666666666666,
              "#ed7953"
             ],
             [
              0.7777777777777778,
              "#fb9f3a"
             ],
             [
              0.8888888888888888,
              "#fdca26"
             ],
             [
              1,
              "#f0f921"
             ]
            ],
            "type": "heatmapgl"
           }
          ],
          "histogram": [
           {
            "marker": {
             "pattern": {
              "fillmode": "overlay",
              "size": 10,
              "solidity": 0.2
             }
            },
            "type": "histogram"
           }
          ],
          "histogram2d": [
           {
            "colorbar": {
             "outlinewidth": 0,
             "ticks": ""
            },
            "colorscale": [
             [
              0,
              "#0d0887"
             ],
             [
              0.1111111111111111,
              "#46039f"
             ],
             [
              0.2222222222222222,
              "#7201a8"
             ],
             [
              0.3333333333333333,
              "#9c179e"
             ],
             [
              0.4444444444444444,
              "#bd3786"
             ],
             [
              0.5555555555555556,
              "#d8576b"
             ],
             [
              0.6666666666666666,
              "#ed7953"
             ],
             [
              0.7777777777777778,
              "#fb9f3a"
             ],
             [
              0.8888888888888888,
              "#fdca26"
             ],
             [
              1,
              "#f0f921"
             ]
            ],
            "type": "histogram2d"
           }
          ],
          "histogram2dcontour": [
           {
            "colorbar": {
             "outlinewidth": 0,
             "ticks": ""
            },
            "colorscale": [
             [
              0,
              "#0d0887"
             ],
             [
              0.1111111111111111,
              "#46039f"
             ],
             [
              0.2222222222222222,
              "#7201a8"
             ],
             [
              0.3333333333333333,
              "#9c179e"
             ],
             [
              0.4444444444444444,
              "#bd3786"
             ],
             [
              0.5555555555555556,
              "#d8576b"
             ],
             [
              0.6666666666666666,
              "#ed7953"
             ],
             [
              0.7777777777777778,
              "#fb9f3a"
             ],
             [
              0.8888888888888888,
              "#fdca26"
             ],
             [
              1,
              "#f0f921"
             ]
            ],
            "type": "histogram2dcontour"
           }
          ],
          "mesh3d": [
           {
            "colorbar": {
             "outlinewidth": 0,
             "ticks": ""
            },
            "type": "mesh3d"
           }
          ],
          "parcoords": [
           {
            "line": {
             "colorbar": {
              "outlinewidth": 0,
              "ticks": ""
             }
            },
            "type": "parcoords"
           }
          ],
          "pie": [
           {
            "automargin": true,
            "type": "pie"
           }
          ],
          "scatter": [
           {
            "fillpattern": {
             "fillmode": "overlay",
             "size": 10,
             "solidity": 0.2
            },
            "type": "scatter"
           }
          ],
          "scatter3d": [
           {
            "line": {
             "colorbar": {
              "outlinewidth": 0,
              "ticks": ""
             }
            },
            "marker": {
             "colorbar": {
              "outlinewidth": 0,
              "ticks": ""
             }
            },
            "type": "scatter3d"
           }
          ],
          "scattercarpet": [
           {
            "marker": {
             "colorbar": {
              "outlinewidth": 0,
              "ticks": ""
             }
            },
            "type": "scattercarpet"
           }
          ],
          "scattergeo": [
           {
            "marker": {
             "colorbar": {
              "outlinewidth": 0,
              "ticks": ""
             }
            },
            "type": "scattergeo"
           }
          ],
          "scattergl": [
           {
            "marker": {
             "colorbar": {
              "outlinewidth": 0,
              "ticks": ""
             }
            },
            "type": "scattergl"
           }
          ],
          "scattermapbox": [
           {
            "marker": {
             "colorbar": {
              "outlinewidth": 0,
              "ticks": ""
             }
            },
            "type": "scattermapbox"
           }
          ],
          "scatterpolar": [
           {
            "marker": {
             "colorbar": {
              "outlinewidth": 0,
              "ticks": ""
             }
            },
            "type": "scatterpolar"
           }
          ],
          "scatterpolargl": [
           {
            "marker": {
             "colorbar": {
              "outlinewidth": 0,
              "ticks": ""
             }
            },
            "type": "scatterpolargl"
           }
          ],
          "scatterternary": [
           {
            "marker": {
             "colorbar": {
              "outlinewidth": 0,
              "ticks": ""
             }
            },
            "type": "scatterternary"
           }
          ],
          "surface": [
           {
            "colorbar": {
             "outlinewidth": 0,
             "ticks": ""
            },
            "colorscale": [
             [
              0,
              "#0d0887"
             ],
             [
              0.1111111111111111,
              "#46039f"
             ],
             [
              0.2222222222222222,
              "#7201a8"
             ],
             [
              0.3333333333333333,
              "#9c179e"
             ],
             [
              0.4444444444444444,
              "#bd3786"
             ],
             [
              0.5555555555555556,
              "#d8576b"
             ],
             [
              0.6666666666666666,
              "#ed7953"
             ],
             [
              0.7777777777777778,
              "#fb9f3a"
             ],
             [
              0.8888888888888888,
              "#fdca26"
             ],
             [
              1,
              "#f0f921"
             ]
            ],
            "type": "surface"
           }
          ],
          "table": [
           {
            "cells": {
             "fill": {
              "color": "#EBF0F8"
             },
             "line": {
              "color": "white"
             }
            },
            "header": {
             "fill": {
              "color": "#C8D4E3"
             },
             "line": {
              "color": "white"
             }
            },
            "type": "table"
           }
          ]
         },
         "layout": {
          "annotationdefaults": {
           "arrowcolor": "#2a3f5f",
           "arrowhead": 0,
           "arrowwidth": 1
          },
          "autotypenumbers": "strict",
          "coloraxis": {
           "colorbar": {
            "outlinewidth": 0,
            "ticks": ""
           }
          },
          "colorscale": {
           "diverging": [
            [
             0,
             "#8e0152"
            ],
            [
             0.1,
             "#c51b7d"
            ],
            [
             0.2,
             "#de77ae"
            ],
            [
             0.3,
             "#f1b6da"
            ],
            [
             0.4,
             "#fde0ef"
            ],
            [
             0.5,
             "#f7f7f7"
            ],
            [
             0.6,
             "#e6f5d0"
            ],
            [
             0.7,
             "#b8e186"
            ],
            [
             0.8,
             "#7fbc41"
            ],
            [
             0.9,
             "#4d9221"
            ],
            [
             1,
             "#276419"
            ]
           ],
           "sequential": [
            [
             0,
             "#0d0887"
            ],
            [
             0.1111111111111111,
             "#46039f"
            ],
            [
             0.2222222222222222,
             "#7201a8"
            ],
            [
             0.3333333333333333,
             "#9c179e"
            ],
            [
             0.4444444444444444,
             "#bd3786"
            ],
            [
             0.5555555555555556,
             "#d8576b"
            ],
            [
             0.6666666666666666,
             "#ed7953"
            ],
            [
             0.7777777777777778,
             "#fb9f3a"
            ],
            [
             0.8888888888888888,
             "#fdca26"
            ],
            [
             1,
             "#f0f921"
            ]
           ],
           "sequentialminus": [
            [
             0,
             "#0d0887"
            ],
            [
             0.1111111111111111,
             "#46039f"
            ],
            [
             0.2222222222222222,
             "#7201a8"
            ],
            [
             0.3333333333333333,
             "#9c179e"
            ],
            [
             0.4444444444444444,
             "#bd3786"
            ],
            [
             0.5555555555555556,
             "#d8576b"
            ],
            [
             0.6666666666666666,
             "#ed7953"
            ],
            [
             0.7777777777777778,
             "#fb9f3a"
            ],
            [
             0.8888888888888888,
             "#fdca26"
            ],
            [
             1,
             "#f0f921"
            ]
           ]
          },
          "colorway": [
           "#636efa",
           "#EF553B",
           "#00cc96",
           "#ab63fa",
           "#FFA15A",
           "#19d3f3",
           "#FF6692",
           "#B6E880",
           "#FF97FF",
           "#FECB52"
          ],
          "font": {
           "color": "#2a3f5f"
          },
          "geo": {
           "bgcolor": "white",
           "lakecolor": "white",
           "landcolor": "#E5ECF6",
           "showlakes": true,
           "showland": true,
           "subunitcolor": "white"
          },
          "hoverlabel": {
           "align": "left"
          },
          "hovermode": "closest",
          "mapbox": {
           "style": "light"
          },
          "paper_bgcolor": "white",
          "plot_bgcolor": "#E5ECF6",
          "polar": {
           "angularaxis": {
            "gridcolor": "white",
            "linecolor": "white",
            "ticks": ""
           },
           "bgcolor": "#E5ECF6",
           "radialaxis": {
            "gridcolor": "white",
            "linecolor": "white",
            "ticks": ""
           }
          },
          "scene": {
           "xaxis": {
            "backgroundcolor": "#E5ECF6",
            "gridcolor": "white",
            "gridwidth": 2,
            "linecolor": "white",
            "showbackground": true,
            "ticks": "",
            "zerolinecolor": "white"
           },
           "yaxis": {
            "backgroundcolor": "#E5ECF6",
            "gridcolor": "white",
            "gridwidth": 2,
            "linecolor": "white",
            "showbackground": true,
            "ticks": "",
            "zerolinecolor": "white"
           },
           "zaxis": {
            "backgroundcolor": "#E5ECF6",
            "gridcolor": "white",
            "gridwidth": 2,
            "linecolor": "white",
            "showbackground": true,
            "ticks": "",
            "zerolinecolor": "white"
           }
          },
          "shapedefaults": {
           "line": {
            "color": "#2a3f5f"
           }
          },
          "ternary": {
           "aaxis": {
            "gridcolor": "white",
            "linecolor": "white",
            "ticks": ""
           },
           "baxis": {
            "gridcolor": "white",
            "linecolor": "white",
            "ticks": ""
           },
           "bgcolor": "#E5ECF6",
           "caxis": {
            "gridcolor": "white",
            "linecolor": "white",
            "ticks": ""
           }
          },
          "title": {
           "x": 0.05
          },
          "xaxis": {
           "automargin": true,
           "gridcolor": "white",
           "linecolor": "white",
           "ticks": "",
           "title": {
            "standoff": 15
           },
           "zerolinecolor": "white",
           "zerolinewidth": 2
          },
          "yaxis": {
           "automargin": true,
           "gridcolor": "white",
           "linecolor": "white",
           "ticks": "",
           "title": {
            "standoff": 15
           },
           "zerolinecolor": "white",
           "zerolinewidth": 2
          }
         }
        }
       }
      }
     },
     "metadata": {},
     "output_type": "display_data"
    }
   ],
   "source": [
    "import plotly.graph_objects as go\n",
    "fig = go.Figure(data=[go.Pie(labels=['Given directors', 'Not given directors'],\n",
    "                             values=[numOfDirectors[0], given_directors],\n",
    "                             title='Distribution of directors',\n",
    "                             marker=dict(colors=['darkblue', 'darkred']))])\n",
    "fig.show()"
   ]
  },
  {
   "cell_type": "code",
   "execution_count": 190,
   "metadata": {},
   "outputs": [
    {
     "data": {
      "text/html": [
       "<div>\n",
       "<style scoped>\n",
       "    .dataframe tbody tr th:only-of-type {\n",
       "        vertical-align: middle;\n",
       "    }\n",
       "\n",
       "    .dataframe tbody tr th {\n",
       "        vertical-align: top;\n",
       "    }\n",
       "\n",
       "    .dataframe thead th {\n",
       "        text-align: right;\n",
       "    }\n",
       "</style>\n",
       "<table border=\"1\" class=\"dataframe\">\n",
       "  <thead>\n",
       "    <tr style=\"text-align: right;\">\n",
       "      <th></th>\n",
       "      <th>director</th>\n",
       "      <th>type</th>\n",
       "      <th>count</th>\n",
       "    </tr>\n",
       "  </thead>\n",
       "  <tbody>\n",
       "    <tr>\n",
       "      <th>0</th>\n",
       "      <td>A. L. Vijay</td>\n",
       "      <td>Movie</td>\n",
       "      <td>2</td>\n",
       "    </tr>\n",
       "    <tr>\n",
       "      <th>1</th>\n",
       "      <td>A. Raajdheep</td>\n",
       "      <td>Movie</td>\n",
       "      <td>1</td>\n",
       "    </tr>\n",
       "    <tr>\n",
       "      <th>2</th>\n",
       "      <td>A. Salaam</td>\n",
       "      <td>Movie</td>\n",
       "      <td>1</td>\n",
       "    </tr>\n",
       "    <tr>\n",
       "      <th>3</th>\n",
       "      <td>A.R. Murugadoss</td>\n",
       "      <td>Movie</td>\n",
       "      <td>2</td>\n",
       "    </tr>\n",
       "    <tr>\n",
       "      <th>4</th>\n",
       "      <td>Aadish Keluskar</td>\n",
       "      <td>Movie</td>\n",
       "      <td>1</td>\n",
       "    </tr>\n",
       "    <tr>\n",
       "      <th>5</th>\n",
       "      <td>Aamir Bashir</td>\n",
       "      <td>Movie</td>\n",
       "      <td>1</td>\n",
       "    </tr>\n",
       "    <tr>\n",
       "      <th>6</th>\n",
       "      <td>Aamir Khan</td>\n",
       "      <td>Movie</td>\n",
       "      <td>1</td>\n",
       "    </tr>\n",
       "    <tr>\n",
       "      <th>7</th>\n",
       "      <td>Aanand Rai</td>\n",
       "      <td>Movie</td>\n",
       "      <td>1</td>\n",
       "    </tr>\n",
       "    <tr>\n",
       "      <th>8</th>\n",
       "      <td>Aaron Burns</td>\n",
       "      <td>Movie</td>\n",
       "      <td>1</td>\n",
       "    </tr>\n",
       "    <tr>\n",
       "      <th>9</th>\n",
       "      <td>Aaron Hancox, Michael McNamara</td>\n",
       "      <td>Movie</td>\n",
       "      <td>1</td>\n",
       "    </tr>\n",
       "  </tbody>\n",
       "</table>\n",
       "</div>"
      ],
      "text/plain": [
       "                         director   type  count\n",
       "0                     A. L. Vijay  Movie      2\n",
       "1                    A. Raajdheep  Movie      1\n",
       "2                       A. Salaam  Movie      1\n",
       "3                 A.R. Murugadoss  Movie      2\n",
       "4                 Aadish Keluskar  Movie      1\n",
       "5                    Aamir Bashir  Movie      1\n",
       "6                      Aamir Khan  Movie      1\n",
       "7                      Aanand Rai  Movie      1\n",
       "8                     Aaron Burns  Movie      1\n",
       "9  Aaron Hancox, Michael McNamara  Movie      1"
      ]
     },
     "execution_count": 190,
     "metadata": {},
     "output_type": "execute_result"
    }
   ],
   "source": [
    "numOfDirectorMovies = df.groupby(['director', 'type'])[\n",
    "    'director'].value_counts().reset_index().head(10)\n",
    "numOfDirectorMovies"
   ]
  },
  {
   "cell_type": "code",
   "execution_count": 191,
   "metadata": {},
   "outputs": [
    {
     "data": {
      "image/png": "[encoded data removed]",
      "text/plain": [
       "<Figure size 2000x800 with 1 Axes>"
      ]
     },
     "metadata": {},
     "output_type": "display_data"
    }
   ],
   "source": [
    "plt.figure(figsize=(20, 8))\n",
    "plt.bar(numOfDirectorMovies['director'],\n",
    "        numOfDirectorMovies['count'], color='darkblue')\n",
    "plt.xticks(rotation=45)\n",
    "plt.show()"
   ]
  },
  {
   "cell_type": "markdown",
   "metadata": {},
   "source": [
    "## Top Content-Producing Countries\n",
    "Visualizing the top 10 countries by number of Netflix titles using a bar chart.\n"
   ]
  },
  {
   "cell_type": "code",
   "execution_count": 192,
   "metadata": {},
   "outputs": [
    {
     "data": {
      "text/html": [
       "<div>\n",
       "<style scoped>\n",
       "    .dataframe tbody tr th:only-of-type {\n",
       "        vertical-align: middle;\n",
       "    }\n",
       "\n",
       "    .dataframe tbody tr th {\n",
       "        vertical-align: top;\n",
       "    }\n",
       "\n",
       "    .dataframe thead th {\n",
       "        text-align: right;\n",
       "    }\n",
       "</style>\n",
       "<table border=\"1\" class=\"dataframe\">\n",
       "  <thead>\n",
       "    <tr style=\"text-align: right;\">\n",
       "      <th></th>\n",
       "      <th>country</th>\n",
       "      <th>count</th>\n",
       "    </tr>\n",
       "  </thead>\n",
       "  <tbody>\n",
       "    <tr>\n",
       "      <th>0</th>\n",
       "      <td>United States</td>\n",
       "      <td>3240</td>\n",
       "    </tr>\n",
       "    <tr>\n",
       "      <th>1</th>\n",
       "      <td>India</td>\n",
       "      <td>1057</td>\n",
       "    </tr>\n",
       "    <tr>\n",
       "      <th>2</th>\n",
       "      <td>United Kingdom</td>\n",
       "      <td>638</td>\n",
       "    </tr>\n",
       "    <tr>\n",
       "      <th>3</th>\n",
       "      <td>Pakistan</td>\n",
       "      <td>421</td>\n",
       "    </tr>\n",
       "    <tr>\n",
       "      <th>4</th>\n",
       "      <td>Not Given</td>\n",
       "      <td>287</td>\n",
       "    </tr>\n",
       "    <tr>\n",
       "      <th>5</th>\n",
       "      <td>Canada</td>\n",
       "      <td>271</td>\n",
       "    </tr>\n",
       "    <tr>\n",
       "      <th>6</th>\n",
       "      <td>Japan</td>\n",
       "      <td>259</td>\n",
       "    </tr>\n",
       "    <tr>\n",
       "      <th>7</th>\n",
       "      <td>South Korea</td>\n",
       "      <td>214</td>\n",
       "    </tr>\n",
       "    <tr>\n",
       "      <th>8</th>\n",
       "      <td>France</td>\n",
       "      <td>213</td>\n",
       "    </tr>\n",
       "    <tr>\n",
       "      <th>9</th>\n",
       "      <td>Spain</td>\n",
       "      <td>182</td>\n",
       "    </tr>\n",
       "  </tbody>\n",
       "</table>\n",
       "</div>"
      ],
      "text/plain": [
       "          country  count\n",
       "0   United States   3240\n",
       "1           India   1057\n",
       "2  United Kingdom    638\n",
       "3        Pakistan    421\n",
       "4       Not Given    287\n",
       "5          Canada    271\n",
       "6           Japan    259\n",
       "7     South Korea    214\n",
       "8          France    213\n",
       "9           Spain    182"
      ]
     },
     "execution_count": 192,
     "metadata": {},
     "output_type": "execute_result"
    }
   ],
   "source": [
    "country = df['country'].value_counts().reset_index(\n",
    ").sort_values(by='count', ascending=False).head(10)\n",
    "country"
   ]
  },
  {
   "cell_type": "code",
   "execution_count": 193,
   "metadata": {},
   "outputs": [
    {
     "data": {
      "text/plain": [
       "Text(0, 0.5, 'Num of Movies')"
      ]
     },
     "execution_count": 193,
     "metadata": {},
     "output_type": "execute_result"
    },
    {
     "data": {
      "image/png": "[encoded data removed]",
      "text/plain": [
       "<Figure size 2000x800 with 1 Axes>"
      ]
     },
     "metadata": {},
     "output_type": "display_data"
    }
   ],
   "source": [
    "plt.figure(figsize=(20, 8))\n",
    "plt.title('Top 10 countries')\n",
    "sns.barplot(x='country', y='count', data=country)\n",
    "plt.xlabel('Country')\n",
    "plt.ylabel('Num of Movies')"
   ]
  },
  {
   "cell_type": "markdown",
   "metadata": {},
   "source": [
    "## Release Year Distribution\n",
    "Histogram showing the frequency of titles released across different years.\n"
   ]
  },
  {
   "cell_type": "code",
   "execution_count": 194,
   "metadata": {},
   "outputs": [
    {
     "data": {
      "image/png": "[encoded data removed]",
      "text/plain": [
       "<Figure size 640x480 with 1 Axes>"
      ]
     },
     "metadata": {},
     "output_type": "display_data"
    }
   ],
   "source": [
    "df['release_year'].plot(kind='hist', bins=30)\n",
    "plt.title('Distribution of Release Years')\n",
    "plt.xlabel('Release Year')\n",
    "plt.ylabel('Count')\n",
    "plt.show()"
   ]
  },
  {
   "cell_type": "markdown",
   "metadata": {},
   "source": [
    "## Rating Distribution for Movies and TV Shows\n",
    "Bar charts displaying the top 10 ratings for Movies and TV Shows, highlighting their frequency in the dataset.\n"
   ]
  },
  {
   "cell_type": "code",
   "execution_count": 195,
   "metadata": {},
   "outputs": [
    {
     "data": {
      "text/html": [
       "<div>\n",
       "<style scoped>\n",
       "    .dataframe tbody tr th:only-of-type {\n",
       "        vertical-align: middle;\n",
       "    }\n",
       "\n",
       "    .dataframe tbody tr th {\n",
       "        vertical-align: top;\n",
       "    }\n",
       "\n",
       "    .dataframe thead th {\n",
       "        text-align: right;\n",
       "    }\n",
       "</style>\n",
       "<table border=\"1\" class=\"dataframe\">\n",
       "  <thead>\n",
       "    <tr style=\"text-align: right;\">\n",
       "      <th></th>\n",
       "      <th>rating</th>\n",
       "      <th>type</th>\n",
       "      <th>count</th>\n",
       "    </tr>\n",
       "  </thead>\n",
       "  <tbody>\n",
       "    <tr>\n",
       "      <th>0</th>\n",
       "      <td>G</td>\n",
       "      <td>Movie</td>\n",
       "      <td>41</td>\n",
       "    </tr>\n",
       "    <tr>\n",
       "      <th>1</th>\n",
       "      <td>NC-17</td>\n",
       "      <td>Movie</td>\n",
       "      <td>3</td>\n",
       "    </tr>\n",
       "    <tr>\n",
       "      <th>2</th>\n",
       "      <td>NR</td>\n",
       "      <td>Movie</td>\n",
       "      <td>75</td>\n",
       "    </tr>\n",
       "    <tr>\n",
       "      <th>3</th>\n",
       "      <td>NR</td>\n",
       "      <td>TV Show</td>\n",
       "      <td>4</td>\n",
       "    </tr>\n",
       "    <tr>\n",
       "      <th>4</th>\n",
       "      <td>PG</td>\n",
       "      <td>Movie</td>\n",
       "      <td>287</td>\n",
       "    </tr>\n",
       "    <tr>\n",
       "      <th>5</th>\n",
       "      <td>PG-13</td>\n",
       "      <td>Movie</td>\n",
       "      <td>490</td>\n",
       "    </tr>\n",
       "    <tr>\n",
       "      <th>6</th>\n",
       "      <td>R</td>\n",
       "      <td>Movie</td>\n",
       "      <td>797</td>\n",
       "    </tr>\n",
       "    <tr>\n",
       "      <th>7</th>\n",
       "      <td>R</td>\n",
       "      <td>TV Show</td>\n",
       "      <td>2</td>\n",
       "    </tr>\n",
       "    <tr>\n",
       "      <th>8</th>\n",
       "      <td>TV-14</td>\n",
       "      <td>Movie</td>\n",
       "      <td>1427</td>\n",
       "    </tr>\n",
       "    <tr>\n",
       "      <th>9</th>\n",
       "      <td>TV-14</td>\n",
       "      <td>TV Show</td>\n",
       "      <td>730</td>\n",
       "    </tr>\n",
       "    <tr>\n",
       "      <th>10</th>\n",
       "      <td>TV-G</td>\n",
       "      <td>Movie</td>\n",
       "      <td>126</td>\n",
       "    </tr>\n",
       "    <tr>\n",
       "      <th>11</th>\n",
       "      <td>TV-G</td>\n",
       "      <td>TV Show</td>\n",
       "      <td>94</td>\n",
       "    </tr>\n",
       "    <tr>\n",
       "      <th>12</th>\n",
       "      <td>TV-MA</td>\n",
       "      <td>Movie</td>\n",
       "      <td>2062</td>\n",
       "    </tr>\n",
       "    <tr>\n",
       "      <th>13</th>\n",
       "      <td>TV-MA</td>\n",
       "      <td>TV Show</td>\n",
       "      <td>1143</td>\n",
       "    </tr>\n",
       "    <tr>\n",
       "      <th>14</th>\n",
       "      <td>TV-PG</td>\n",
       "      <td>Movie</td>\n",
       "      <td>540</td>\n",
       "    </tr>\n",
       "    <tr>\n",
       "      <th>15</th>\n",
       "      <td>TV-PG</td>\n",
       "      <td>TV Show</td>\n",
       "      <td>321</td>\n",
       "    </tr>\n",
       "    <tr>\n",
       "      <th>16</th>\n",
       "      <td>TV-Y</td>\n",
       "      <td>Movie</td>\n",
       "      <td>131</td>\n",
       "    </tr>\n",
       "    <tr>\n",
       "      <th>17</th>\n",
       "      <td>TV-Y</td>\n",
       "      <td>TV Show</td>\n",
       "      <td>175</td>\n",
       "    </tr>\n",
       "    <tr>\n",
       "      <th>18</th>\n",
       "      <td>TV-Y7</td>\n",
       "      <td>Movie</td>\n",
       "      <td>139</td>\n",
       "    </tr>\n",
       "    <tr>\n",
       "      <th>19</th>\n",
       "      <td>TV-Y7</td>\n",
       "      <td>TV Show</td>\n",
       "      <td>194</td>\n",
       "    </tr>\n",
       "    <tr>\n",
       "      <th>20</th>\n",
       "      <td>TV-Y7-FV</td>\n",
       "      <td>Movie</td>\n",
       "      <td>5</td>\n",
       "    </tr>\n",
       "    <tr>\n",
       "      <th>21</th>\n",
       "      <td>TV-Y7-FV</td>\n",
       "      <td>TV Show</td>\n",
       "      <td>1</td>\n",
       "    </tr>\n",
       "    <tr>\n",
       "      <th>22</th>\n",
       "      <td>UR</td>\n",
       "      <td>Movie</td>\n",
       "      <td>3</td>\n",
       "    </tr>\n",
       "  </tbody>\n",
       "</table>\n",
       "</div>"
      ],
      "text/plain": [
       "      rating     type  count\n",
       "0          G    Movie     41\n",
       "1      NC-17    Movie      3\n",
       "2         NR    Movie     75\n",
       "3         NR  TV Show      4\n",
       "4         PG    Movie    287\n",
       "5      PG-13    Movie    490\n",
       "6          R    Movie    797\n",
       "7          R  TV Show      2\n",
       "8      TV-14    Movie   1427\n",
       "9      TV-14  TV Show    730\n",
       "10      TV-G    Movie    126\n",
       "11      TV-G  TV Show     94\n",
       "12     TV-MA    Movie   2062\n",
       "13     TV-MA  TV Show   1143\n",
       "14     TV-PG    Movie    540\n",
       "15     TV-PG  TV Show    321\n",
       "16      TV-Y    Movie    131\n",
       "17      TV-Y  TV Show    175\n",
       "18     TV-Y7    Movie    139\n",
       "19     TV-Y7  TV Show    194\n",
       "20  TV-Y7-FV    Movie      5\n",
       "21  TV-Y7-FV  TV Show      1\n",
       "22        UR    Movie      3"
      ]
     },
     "execution_count": 195,
     "metadata": {},
     "output_type": "execute_result"
    }
   ],
   "source": [
    "rates = df.groupby(['rating', 'type'])['type'].value_counts().reset_index()\n",
    "rates"
   ]
  },
  {
   "cell_type": "code",
   "execution_count": 196,
   "metadata": {},
   "outputs": [
    {
     "data": {
      "text/html": [
       "<div>\n",
       "<style scoped>\n",
       "    .dataframe tbody tr th:only-of-type {\n",
       "        vertical-align: middle;\n",
       "    }\n",
       "\n",
       "    .dataframe tbody tr th {\n",
       "        vertical-align: top;\n",
       "    }\n",
       "\n",
       "    .dataframe thead th {\n",
       "        text-align: right;\n",
       "    }\n",
       "</style>\n",
       "<table border=\"1\" class=\"dataframe\">\n",
       "  <thead>\n",
       "    <tr style=\"text-align: right;\">\n",
       "      <th></th>\n",
       "      <th>rating</th>\n",
       "      <th>type</th>\n",
       "      <th>count</th>\n",
       "    </tr>\n",
       "  </thead>\n",
       "  <tbody>\n",
       "    <tr>\n",
       "      <th>12</th>\n",
       "      <td>TV-MA</td>\n",
       "      <td>Movie</td>\n",
       "      <td>2062</td>\n",
       "    </tr>\n",
       "    <tr>\n",
       "      <th>8</th>\n",
       "      <td>TV-14</td>\n",
       "      <td>Movie</td>\n",
       "      <td>1427</td>\n",
       "    </tr>\n",
       "    <tr>\n",
       "      <th>6</th>\n",
       "      <td>R</td>\n",
       "      <td>Movie</td>\n",
       "      <td>797</td>\n",
       "    </tr>\n",
       "    <tr>\n",
       "      <th>14</th>\n",
       "      <td>TV-PG</td>\n",
       "      <td>Movie</td>\n",
       "      <td>540</td>\n",
       "    </tr>\n",
       "    <tr>\n",
       "      <th>5</th>\n",
       "      <td>PG-13</td>\n",
       "      <td>Movie</td>\n",
       "      <td>490</td>\n",
       "    </tr>\n",
       "    <tr>\n",
       "      <th>4</th>\n",
       "      <td>PG</td>\n",
       "      <td>Movie</td>\n",
       "      <td>287</td>\n",
       "    </tr>\n",
       "    <tr>\n",
       "      <th>18</th>\n",
       "      <td>TV-Y7</td>\n",
       "      <td>Movie</td>\n",
       "      <td>139</td>\n",
       "    </tr>\n",
       "    <tr>\n",
       "      <th>16</th>\n",
       "      <td>TV-Y</td>\n",
       "      <td>Movie</td>\n",
       "      <td>131</td>\n",
       "    </tr>\n",
       "    <tr>\n",
       "      <th>10</th>\n",
       "      <td>TV-G</td>\n",
       "      <td>Movie</td>\n",
       "      <td>126</td>\n",
       "    </tr>\n",
       "    <tr>\n",
       "      <th>2</th>\n",
       "      <td>NR</td>\n",
       "      <td>Movie</td>\n",
       "      <td>75</td>\n",
       "    </tr>\n",
       "  </tbody>\n",
       "</table>\n",
       "</div>"
      ],
      "text/plain": [
       "   rating   type  count\n",
       "12  TV-MA  Movie   2062\n",
       "8   TV-14  Movie   1427\n",
       "6       R  Movie    797\n",
       "14  TV-PG  Movie    540\n",
       "5   PG-13  Movie    490\n",
       "4      PG  Movie    287\n",
       "18  TV-Y7  Movie    139\n",
       "16   TV-Y  Movie    131\n",
       "10   TV-G  Movie    126\n",
       "2      NR  Movie     75"
      ]
     },
     "execution_count": 196,
     "metadata": {},
     "output_type": "execute_result"
    }
   ],
   "source": [
    "top10Movie = rates[rates['type'] == 'Movie'].sort_values(by='count', ascending=False).iloc[0:10]\n",
    "top10Movie"
   ]
  },
  {
   "cell_type": "code",
   "execution_count": 197,
   "metadata": {},
   "outputs": [
    {
     "data": {
      "image/png": "[encoded data removed]",
      "text/plain": [
       "<Figure size 640x480 with 1 Axes>"
      ]
     },
     "metadata": {},
     "output_type": "display_data"
    }
   ],
   "source": [
    "top10Movie.plot(x='rating', y='count', kind='bar')\n",
    "plt.title('Top 10 Movie')\n",
    "plt.xlabel('Rating')\n",
    "plt.ylabel('Count')\n",
    "plt.xticks(rotation=45)\n",
    "plt.show()"
   ]
  },
  {
   "cell_type": "code",
   "execution_count": 198,
   "metadata": {},
   "outputs": [
    {
     "data": {
      "text/html": [
       "<div>\n",
       "<style scoped>\n",
       "    .dataframe tbody tr th:only-of-type {\n",
       "        vertical-align: middle;\n",
       "    }\n",
       "\n",
       "    .dataframe tbody tr th {\n",
       "        vertical-align: top;\n",
       "    }\n",
       "\n",
       "    .dataframe thead th {\n",
       "        text-align: right;\n",
       "    }\n",
       "</style>\n",
       "<table border=\"1\" class=\"dataframe\">\n",
       "  <thead>\n",
       "    <tr style=\"text-align: right;\">\n",
       "      <th></th>\n",
       "      <th>rating</th>\n",
       "      <th>type</th>\n",
       "      <th>count</th>\n",
       "    </tr>\n",
       "  </thead>\n",
       "  <tbody>\n",
       "    <tr>\n",
       "      <th>13</th>\n",
       "      <td>TV-MA</td>\n",
       "      <td>TV Show</td>\n",
       "      <td>1143</td>\n",
       "    </tr>\n",
       "    <tr>\n",
       "      <th>9</th>\n",
       "      <td>TV-14</td>\n",
       "      <td>TV Show</td>\n",
       "      <td>730</td>\n",
       "    </tr>\n",
       "    <tr>\n",
       "      <th>15</th>\n",
       "      <td>TV-PG</td>\n",
       "      <td>TV Show</td>\n",
       "      <td>321</td>\n",
       "    </tr>\n",
       "    <tr>\n",
       "      <th>19</th>\n",
       "      <td>TV-Y7</td>\n",
       "      <td>TV Show</td>\n",
       "      <td>194</td>\n",
       "    </tr>\n",
       "    <tr>\n",
       "      <th>17</th>\n",
       "      <td>TV-Y</td>\n",
       "      <td>TV Show</td>\n",
       "      <td>175</td>\n",
       "    </tr>\n",
       "    <tr>\n",
       "      <th>11</th>\n",
       "      <td>TV-G</td>\n",
       "      <td>TV Show</td>\n",
       "      <td>94</td>\n",
       "    </tr>\n",
       "    <tr>\n",
       "      <th>3</th>\n",
       "      <td>NR</td>\n",
       "      <td>TV Show</td>\n",
       "      <td>4</td>\n",
       "    </tr>\n",
       "    <tr>\n",
       "      <th>7</th>\n",
       "      <td>R</td>\n",
       "      <td>TV Show</td>\n",
       "      <td>2</td>\n",
       "    </tr>\n",
       "    <tr>\n",
       "      <th>21</th>\n",
       "      <td>TV-Y7-FV</td>\n",
       "      <td>TV Show</td>\n",
       "      <td>1</td>\n",
       "    </tr>\n",
       "  </tbody>\n",
       "</table>\n",
       "</div>"
      ],
      "text/plain": [
       "      rating     type  count\n",
       "13     TV-MA  TV Show   1143\n",
       "9      TV-14  TV Show    730\n",
       "15     TV-PG  TV Show    321\n",
       "19     TV-Y7  TV Show    194\n",
       "17      TV-Y  TV Show    175\n",
       "11      TV-G  TV Show     94\n",
       "3         NR  TV Show      4\n",
       "7          R  TV Show      2\n",
       "21  TV-Y7-FV  TV Show      1"
      ]
     },
     "execution_count": 198,
     "metadata": {},
     "output_type": "execute_result"
    }
   ],
   "source": [
    "top10TvShow = rates[rates['type'] == 'TV Show'].sort_values(\n",
    "    by='count', ascending=False).iloc[0:10]\n",
    "top10TvShow"
   ]
  },
  {
   "cell_type": "code",
   "execution_count": 199,
   "metadata": {},
   "outputs": [
    {
     "data": {
      "image/png": "[encoded data removed]",
      "text/plain": [
       "<Figure size 640x480 with 1 Axes>"
      ]
     },
     "metadata": {},
     "output_type": "display_data"
    }
   ],
   "source": [
    "top10TvShow.plot(x='rating', y='count', kind='bar')\n",
    "plt.title('Top 10 Tv Show')\n",
    "plt.xlabel('Rating')\n",
    "plt.ylabel('Count')\n",
    "plt.xticks(rotation=45)\n",
    "plt.show()"
   ]
  },
  {
   "cell_type": "markdown",
   "metadata": {},
   "source": [
    "## Popular Genres for Movies and TV Shows\n",
    "Bar charts showing the top 10 most popular genres for Movies and TV Shows, based on the number of titles in each genre.\n"
   ]
  },
  {
   "cell_type": "code",
   "execution_count": 200,
   "metadata": {},
   "outputs": [
    {
     "data": {
      "text/html": [
       "<div>\n",
       "<style scoped>\n",
       "    .dataframe tbody tr th:only-of-type {\n",
       "        vertical-align: middle;\n",
       "    }\n",
       "\n",
       "    .dataframe tbody tr th {\n",
       "        vertical-align: top;\n",
       "    }\n",
       "\n",
       "    .dataframe thead th {\n",
       "        text-align: right;\n",
       "    }\n",
       "</style>\n",
       "<table border=\"1\" class=\"dataframe\">\n",
       "  <thead>\n",
       "    <tr style=\"text-align: right;\">\n",
       "      <th></th>\n",
       "      <th>category</th>\n",
       "      <th>type</th>\n",
       "      <th>count</th>\n",
       "    </tr>\n",
       "  </thead>\n",
       "  <tbody>\n",
       "    <tr>\n",
       "      <th>0</th>\n",
       "      <td>Action &amp; Adventure</td>\n",
       "      <td>Movie</td>\n",
       "      <td>128</td>\n",
       "    </tr>\n",
       "    <tr>\n",
       "      <th>1</th>\n",
       "      <td>Action &amp; Adventure, Anime Features</td>\n",
       "      <td>Movie</td>\n",
       "      <td>1</td>\n",
       "    </tr>\n",
       "    <tr>\n",
       "      <th>2</th>\n",
       "      <td>Action &amp; Adventure, Anime Features, Children &amp;...</td>\n",
       "      <td>Movie</td>\n",
       "      <td>4</td>\n",
       "    </tr>\n",
       "    <tr>\n",
       "      <th>3</th>\n",
       "      <td>Action &amp; Adventure, Anime Features, Classic Mo...</td>\n",
       "      <td>Movie</td>\n",
       "      <td>2</td>\n",
       "    </tr>\n",
       "    <tr>\n",
       "      <th>4</th>\n",
       "      <td>Action &amp; Adventure, Anime Features, Horror Movies</td>\n",
       "      <td>Movie</td>\n",
       "      <td>1</td>\n",
       "    </tr>\n",
       "    <tr>\n",
       "      <th>...</th>\n",
       "      <td>...</td>\n",
       "      <td>...</td>\n",
       "      <td>...</td>\n",
       "    </tr>\n",
       "    <tr>\n",
       "      <th>508</th>\n",
       "      <td>TV Horror, TV Mysteries, Teen TV Shows</td>\n",
       "      <td>TV Show</td>\n",
       "      <td>1</td>\n",
       "    </tr>\n",
       "    <tr>\n",
       "      <th>509</th>\n",
       "      <td>TV Horror, Teen TV Shows</td>\n",
       "      <td>TV Show</td>\n",
       "      <td>2</td>\n",
       "    </tr>\n",
       "    <tr>\n",
       "      <th>510</th>\n",
       "      <td>TV Sci-Fi &amp; Fantasy, TV Thrillers</td>\n",
       "      <td>TV Show</td>\n",
       "      <td>1</td>\n",
       "    </tr>\n",
       "    <tr>\n",
       "      <th>511</th>\n",
       "      <td>TV Shows</td>\n",
       "      <td>TV Show</td>\n",
       "      <td>16</td>\n",
       "    </tr>\n",
       "    <tr>\n",
       "      <th>512</th>\n",
       "      <td>Thrillers</td>\n",
       "      <td>Movie</td>\n",
       "      <td>65</td>\n",
       "    </tr>\n",
       "  </tbody>\n",
       "</table>\n",
       "<p>513 rows × 3 columns</p>\n",
       "</div>"
      ],
      "text/plain": [
       "                                              category     type  count\n",
       "0                                   Action & Adventure    Movie    128\n",
       "1                   Action & Adventure, Anime Features    Movie      1\n",
       "2    Action & Adventure, Anime Features, Children &...    Movie      4\n",
       "3    Action & Adventure, Anime Features, Classic Mo...    Movie      2\n",
       "4    Action & Adventure, Anime Features, Horror Movies    Movie      1\n",
       "..                                                 ...      ...    ...\n",
       "508             TV Horror, TV Mysteries, Teen TV Shows  TV Show      1\n",
       "509                           TV Horror, Teen TV Shows  TV Show      2\n",
       "510                  TV Sci-Fi & Fantasy, TV Thrillers  TV Show      1\n",
       "511                                           TV Shows  TV Show     16\n",
       "512                                          Thrillers    Movie     65\n",
       "\n",
       "[513 rows x 3 columns]"
      ]
     },
     "execution_count": 200,
     "metadata": {},
     "output_type": "execute_result"
    }
   ],
   "source": [
    "category = df.groupby(['category', 'type'])['category'].value_counts().reset_index()\n",
    "category"
   ]
  },
  {
   "cell_type": "code",
   "execution_count": 201,
   "metadata": {},
   "outputs": [
    {
     "data": {
      "text/html": [
       "<div>\n",
       "<style scoped>\n",
       "    .dataframe tbody tr th:only-of-type {\n",
       "        vertical-align: middle;\n",
       "    }\n",
       "\n",
       "    .dataframe tbody tr th {\n",
       "        vertical-align: top;\n",
       "    }\n",
       "\n",
       "    .dataframe thead th {\n",
       "        text-align: right;\n",
       "    }\n",
       "</style>\n",
       "<table border=\"1\" class=\"dataframe\">\n",
       "  <thead>\n",
       "    <tr style=\"text-align: right;\">\n",
       "      <th></th>\n",
       "      <th>category</th>\n",
       "      <th>type</th>\n",
       "      <th>count</th>\n",
       "    </tr>\n",
       "  </thead>\n",
       "  <tbody>\n",
       "    <tr>\n",
       "      <th>325</th>\n",
       "      <td>Dramas, International Movies</td>\n",
       "      <td>Movie</td>\n",
       "      <td>362</td>\n",
       "    </tr>\n",
       "    <tr>\n",
       "      <th>273</th>\n",
       "      <td>Documentaries</td>\n",
       "      <td>Movie</td>\n",
       "      <td>359</td>\n",
       "    </tr>\n",
       "    <tr>\n",
       "      <th>469</th>\n",
       "      <td>Stand-Up Comedy</td>\n",
       "      <td>Movie</td>\n",
       "      <td>334</td>\n",
       "    </tr>\n",
       "    <tr>\n",
       "      <th>199</th>\n",
       "      <td>Comedies, Dramas, International Movies</td>\n",
       "      <td>Movie</td>\n",
       "      <td>274</td>\n",
       "    </tr>\n",
       "    <tr>\n",
       "      <th>318</th>\n",
       "      <td>Dramas, Independent Movies, International Movies</td>\n",
       "      <td>Movie</td>\n",
       "      <td>252</td>\n",
       "    </tr>\n",
       "    <tr>\n",
       "      <th>120</th>\n",
       "      <td>Children &amp; Family Movies</td>\n",
       "      <td>Movie</td>\n",
       "      <td>215</td>\n",
       "    </tr>\n",
       "    <tr>\n",
       "      <th>124</th>\n",
       "      <td>Children &amp; Family Movies, Comedies</td>\n",
       "      <td>Movie</td>\n",
       "      <td>201</td>\n",
       "    </tr>\n",
       "    <tr>\n",
       "      <th>280</th>\n",
       "      <td>Documentaries, International Movies</td>\n",
       "      <td>Movie</td>\n",
       "      <td>186</td>\n",
       "    </tr>\n",
       "    <tr>\n",
       "      <th>328</th>\n",
       "      <td>Dramas, International Movies, Romantic Movies</td>\n",
       "      <td>Movie</td>\n",
       "      <td>180</td>\n",
       "    </tr>\n",
       "    <tr>\n",
       "      <th>216</th>\n",
       "      <td>Comedies, International Movies</td>\n",
       "      <td>Movie</td>\n",
       "      <td>176</td>\n",
       "    </tr>\n",
       "  </tbody>\n",
       "</table>\n",
       "</div>"
      ],
      "text/plain": [
       "                                             category   type  count\n",
       "325                      Dramas, International Movies  Movie    362\n",
       "273                                     Documentaries  Movie    359\n",
       "469                                   Stand-Up Comedy  Movie    334\n",
       "199            Comedies, Dramas, International Movies  Movie    274\n",
       "318  Dramas, Independent Movies, International Movies  Movie    252\n",
       "120                          Children & Family Movies  Movie    215\n",
       "124                Children & Family Movies, Comedies  Movie    201\n",
       "280               Documentaries, International Movies  Movie    186\n",
       "328     Dramas, International Movies, Romantic Movies  Movie    180\n",
       "216                    Comedies, International Movies  Movie    176"
      ]
     },
     "execution_count": 201,
     "metadata": {},
     "output_type": "execute_result"
    }
   ],
   "source": [
    "top10ListedGenresMovie = category[category['type'] == 'Movie'].sort_values(\n",
    "    by='count', ascending=False).iloc[0:10]\n",
    "top10ListedGenresMovie"
   ]
  },
  {
   "cell_type": "code",
   "execution_count": 202,
   "metadata": {},
   "outputs": [
    {
     "data": {
      "image/png": "[encoded data removed]",
      "text/plain": [
       "<Figure size 640x480 with 1 Axes>"
      ]
     },
     "metadata": {},
     "output_type": "display_data"
    }
   ],
   "source": [
    "top10ListedGenresMovie.plot(x='category', y='count', kind='bar')\n",
    "plt.title('Top 10 Genres Movies')\n",
    "plt.xlabel('Genre')\n",
    "plt.ylabel('Count')\n",
    "plt.xticks(rotation=90)\n",
    "plt.show()"
   ]
  },
  {
   "cell_type": "code",
   "execution_count": 203,
   "metadata": {},
   "outputs": [
    {
     "data": {
      "text/html": [
       "<div>\n",
       "<style scoped>\n",
       "    .dataframe tbody tr th:only-of-type {\n",
       "        vertical-align: middle;\n",
       "    }\n",
       "\n",
       "    .dataframe tbody tr th {\n",
       "        vertical-align: top;\n",
       "    }\n",
       "\n",
       "    .dataframe thead th {\n",
       "        text-align: right;\n",
       "    }\n",
       "</style>\n",
       "<table border=\"1\" class=\"dataframe\">\n",
       "  <thead>\n",
       "    <tr style=\"text-align: right;\">\n",
       "      <th></th>\n",
       "      <th>category</th>\n",
       "      <th>type</th>\n",
       "      <th>count</th>\n",
       "    </tr>\n",
       "  </thead>\n",
       "  <tbody>\n",
       "    <tr>\n",
       "      <th>421</th>\n",
       "      <td>Kids' TV</td>\n",
       "      <td>TV Show</td>\n",
       "      <td>219</td>\n",
       "    </tr>\n",
       "    <tr>\n",
       "      <th>411</th>\n",
       "      <td>International TV Shows, TV Dramas</td>\n",
       "      <td>TV Show</td>\n",
       "      <td>121</td>\n",
       "    </tr>\n",
       "    <tr>\n",
       "      <th>243</th>\n",
       "      <td>Crime TV Shows, International TV Shows, TV Dramas</td>\n",
       "      <td>TV Show</td>\n",
       "      <td>110</td>\n",
       "    </tr>\n",
       "    <tr>\n",
       "      <th>432</th>\n",
       "      <td>Kids' TV, TV Comedies</td>\n",
       "      <td>TV Show</td>\n",
       "      <td>97</td>\n",
       "    </tr>\n",
       "    <tr>\n",
       "      <th>445</th>\n",
       "      <td>Reality TV</td>\n",
       "      <td>TV Show</td>\n",
       "      <td>95</td>\n",
       "    </tr>\n",
       "    <tr>\n",
       "      <th>392</th>\n",
       "      <td>International TV Shows, Romantic TV Shows, TV ...</td>\n",
       "      <td>TV Show</td>\n",
       "      <td>94</td>\n",
       "    </tr>\n",
       "    <tr>\n",
       "      <th>393</th>\n",
       "      <td>International TV Shows, Romantic TV Shows, TV ...</td>\n",
       "      <td>TV Show</td>\n",
       "      <td>90</td>\n",
       "    </tr>\n",
       "    <tr>\n",
       "      <th>80</th>\n",
       "      <td>Anime Series, International TV Shows</td>\n",
       "      <td>TV Show</td>\n",
       "      <td>87</td>\n",
       "    </tr>\n",
       "    <tr>\n",
       "      <th>290</th>\n",
       "      <td>Docuseries</td>\n",
       "      <td>TV Show</td>\n",
       "      <td>84</td>\n",
       "    </tr>\n",
       "    <tr>\n",
       "      <th>486</th>\n",
       "      <td>TV Comedies</td>\n",
       "      <td>TV Show</td>\n",
       "      <td>68</td>\n",
       "    </tr>\n",
       "  </tbody>\n",
       "</table>\n",
       "</div>"
      ],
      "text/plain": [
       "                                              category     type  count\n",
       "421                                           Kids' TV  TV Show    219\n",
       "411                  International TV Shows, TV Dramas  TV Show    121\n",
       "243  Crime TV Shows, International TV Shows, TV Dramas  TV Show    110\n",
       "432                              Kids' TV, TV Comedies  TV Show     97\n",
       "445                                         Reality TV  TV Show     95\n",
       "392  International TV Shows, Romantic TV Shows, TV ...  TV Show     94\n",
       "393  International TV Shows, Romantic TV Shows, TV ...  TV Show     90\n",
       "80                Anime Series, International TV Shows  TV Show     87\n",
       "290                                         Docuseries  TV Show     84\n",
       "486                                        TV Comedies  TV Show     68"
      ]
     },
     "execution_count": 203,
     "metadata": {},
     "output_type": "execute_result"
    }
   ],
   "source": [
    "top10ListedGenresTvShow = category[category['type'] == 'TV Show'].sort_values(\n",
    "    by='count', ascending=False).iloc[0:10]\n",
    "top10ListedGenresTvShow"
   ]
  },
  {
   "cell_type": "code",
   "execution_count": 204,
   "metadata": {},
   "outputs": [
    {
     "data": {
      "image/png": "[encoded data removed]",
      "text/plain": [
       "<Figure size 640x480 with 1 Axes>"
      ]
     },
     "metadata": {},
     "output_type": "display_data"
    }
   ],
   "source": [
    "top10ListedGenresTvShow.plot(x='category', y='count', kind='bar')\n",
    "plt.title('Top 10 Genres TV Shows')\n",
    "plt.xlabel('Genre')\n",
    "plt.ylabel('Count')\n",
    "plt.xticks(rotation=90)\n",
    "plt.show()"
   ]
  },
  {
   "cell_type": "markdown",
   "metadata": {},
   "source": [
    "## Conclusion and Feedback Invitation\n",
    "\n",
    "This notebook has provided a comprehensive analysis of the Netflix dataset, exploring various aspects such as show types, content production by country, release year trends, ratings distribution, and genre popularity for both movies and TV shows.\n",
    "\n",
    "I hope this analysis offers valuable insights and aids in better understanding of Netflix's content strategy and viewer preferences. If you have any suggestions for improvement, additional analyses, or corrections, please feel free to propose edits or reach out directly. Your feedback is highly appreciated as it helps enhance the quality and accuracy of this project.\n",
    "\n",
    "Thank you for exploring this notebook!\n"
   ]
  },
  {
   "cell_type": "markdown",
   "metadata": {},
   "source": [
    "## Connect With Me\n",
    "\n",
    "Feel free to connect with me on my professional and social platforms to discuss more about data science and this analysis:\n",
    "\n",
    "[![LinkedIn](data:image/png;base64,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)](https://www.linkedin.com/in/abd-el-rahman-eldeeb-a9bab6251/) &nbsp;\n",
    "[![GitHub](data:image/png;base64,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)](https://github.com/ElDEEB21) &nbsp;\n",
    "[![Kaggle](data:image/png;base64,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)](https://www.kaggle.com/abdoreldeeb)\n"
   ]
  },
  {
   "cell_type": "markdown",
   "metadata": {},
   "source": []
  }
 ],
 "metadata": {
  "kernelspec": {
   "display_name": "Python 3",
   "language": "python",
   "name": "python3"
  },
  "language_info": {
   "codemirror_mode": {
    "name": "ipython",
    "version": 3
   },
   "file_extension": ".py",
   "mimetype": "text/x-python",
   "name": "python",
   "nbconvert_exporter": "python",
   "pygments_lexer": "ipython3",
   "version": "3.11.5"
  }
 },
 "nbformat": 4,
 "nbformat_minor": 2
}
